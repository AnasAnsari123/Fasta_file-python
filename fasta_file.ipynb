{
  "nbformat": 4,
  "nbformat_minor": 0,
  "metadata": {
    "colab": {
      "provenance": []
    },
    "kernelspec": {
      "name": "python3",
      "display_name": "Python 3"
    },
    "language_info": {
      "name": "python"
    }
  },
  "cells": [
    {
      "cell_type": "code",
      "execution_count": 30,
      "metadata": {
        "colab": {
          "base_uri": "https://localhost:8080/"
        },
        "id": "rz4XaojPFxyu",
        "outputId": "68c2b571-dfb6-4121-c0a8-c1db78d410e3"
      },
      "outputs": [
        {
          "output_type": "stream",
          "name": "stdout",
          "text": [
            "Requirement already satisfied: biopython in /usr/local/lib/python3.10/dist-packages (1.81)\n",
            "Requirement already satisfied: numpy in /usr/local/lib/python3.10/dist-packages (from biopython) (1.23.5)\n"
          ]
        }
      ],
      "source": [
        "pip install biopython\n"
      ]
    },
    {
      "cell_type": "code",
      "source": [
        "from Bio import SeqIO"
      ],
      "metadata": {
        "id": "FITlyK9uI6WS"
      },
      "execution_count": 31,
      "outputs": []
    },
    {
      "cell_type": "code",
      "source": [
        "file=\"/content/sequence (1).fasta\""
      ],
      "metadata": {
        "id": "qU-VHmfDJ4dI"
      },
      "execution_count": 32,
      "outputs": []
    },
    {
      "cell_type": "code",
      "source": [
        "seq_object=SeqIO.read(file,\"fasta\")"
      ],
      "metadata": {
        "id": "vA3t5Q5mJGAV"
      },
      "execution_count": 33,
      "outputs": []
    },
    {
      "cell_type": "code",
      "source": [
        "type (seq_object)"
      ],
      "metadata": {
        "colab": {
          "base_uri": "https://localhost:8080/"
        },
        "id": "H94u0T32KPht",
        "outputId": "01b9f3b7-8880-4d96-b14a-5b96858641ea"
      },
      "execution_count": 34,
      "outputs": [
        {
          "output_type": "execute_result",
          "data": {
            "text/plain": [
              "Bio.SeqRecord.SeqRecord"
            ]
          },
          "metadata": {},
          "execution_count": 34
        }
      ]
    },
    {
      "cell_type": "code",
      "source": [
        "print (seq_object)"
      ],
      "metadata": {
        "colab": {
          "base_uri": "https://localhost:8080/"
        },
        "id": "sbA_Nr-dK0iv",
        "outputId": "655c25b5-4456-4357-eb40-101d2a89c83d"
      },
      "execution_count": 35,
      "outputs": [
        {
          "output_type": "stream",
          "name": "stdout",
          "text": [
            "ID: NM_002497.4\n",
            "Name: NM_002497.4\n",
            "Description: NM_002497.4 Homo sapiens NIMA related kinase 2 (NEK2), transcript variant 1, mRNA\n",
            "Number of features: 0\n",
            "Seq('AAACGGGGCCCAAGGCAGGGGTGGCGGGTCAGTGCTGCTCGGGGGCTTCTCCAT...GTA')\n"
          ]
        }
      ]
    },
    {
      "cell_type": "code",
      "source": [
        "seq_id=seq_object.id\n",
        "print (seq_id)"
      ],
      "metadata": {
        "colab": {
          "base_uri": "https://localhost:8080/"
        },
        "id": "U2jd3chVLKV2",
        "outputId": "05dc9288-6f54-4ece-f0dc-4bb729d05c2d"
      },
      "execution_count": 36,
      "outputs": [
        {
          "output_type": "stream",
          "name": "stdout",
          "text": [
            "NM_002497.4\n"
          ]
        }
      ]
    },
    {
      "cell_type": "code",
      "source": [
        "seq_name=seq_object.name\n",
        "print (seq_id)"
      ],
      "metadata": {
        "colab": {
          "base_uri": "https://localhost:8080/"
        },
        "id": "c1h5m6IHL-8y",
        "outputId": "0ad04ed3-0fac-4f02-d1f3-4185a9933785"
      },
      "execution_count": 37,
      "outputs": [
        {
          "output_type": "stream",
          "name": "stdout",
          "text": [
            "NM_002497.4\n"
          ]
        }
      ]
    },
    {
      "cell_type": "code",
      "source": [
        "description=seq_object.description\n",
        "print (description)"
      ],
      "metadata": {
        "colab": {
          "base_uri": "https://localhost:8080/"
        },
        "id": "I8DgEngnMTEv",
        "outputId": "d7ea2f64-94e2-4797-95bc-7a5f5ba23356"
      },
      "execution_count": 38,
      "outputs": [
        {
          "output_type": "stream",
          "name": "stdout",
          "text": [
            "NM_002497.4 Homo sapiens NIMA related kinase 2 (NEK2), transcript variant 1, mRNA\n"
          ]
        }
      ]
    },
    {
      "cell_type": "code",
      "source": [
        "sequence=seq_object.seq\n",
        "print(sequence)"
      ],
      "metadata": {
        "colab": {
          "base_uri": "https://localhost:8080/"
        },
        "id": "xf582qgDNfnW",
        "outputId": "59d3c927-529d-49f1-a828-40761de6edb5"
      },
      "execution_count": 39,
      "outputs": [
        {
          "output_type": "stream",
          "name": "stdout",
          "text": [
            "AAACGGGGCCCAAGGCAGGGGTGGCGGGTCAGTGCTGCTCGGGGGCTTCTCCATCCAGGTCCCTGGAGTTCCTGGTCCCTGGAGCTCCGCACTTGGCGGCGCAACCTGCGTGAGGCAGCGCGACTCTGGCGACTGGCCGGCCATGCCTTCCCGGGCTGAGGACTATGAAGTGTTGTACACCATTGGCACAGGCTCCTACGGCCGCTGCCAGAAGATCCGGAGGAAGAGTGATGGCAAGATATTAGTTTGGAAAGAACTTGACTATGGCTCCATGACAGAAGCTGAGAAACAGATGCTTGTTTCTGAAGTGAATTTGCTTCGTGAACTGAAACATCCAAACATCGTTCGTTACTATGATCGGATTATTGACCGGACCAATACAACACTGTACATTGTAATGGAATATTGTGAAGGAGGGGATCTGGCTAGTGTAATTACAAAGGGAACCAAGGAAAGGCAATACTTAGATGAAGAGTTTGTTCTTCGAGTGATGACTCAGTTGACTCTGGCCCTGAAGGAATGCCACAGACGAAGTGATGGTGGTCATACCGTATTGCATCGGGATCTGAAACCAGCCAATGTTTTCCTGGATGGCAAGCAAAACGTCAAGCTTGGAGACTTTGGGCTAGCTAGAATATTAAACCATGACACGAGTTTTGCAAAAACATTTGTTGGCACACCTTATTACATGTCTCCTGAACAAATGAATCGCATGTCCTACAATGAGAAATCAGATATCTGGTCATTGGGCTGCTTGCTGTATGAGTTATGTGCATTAATGCCTCCATTTACAGCTTTTAGCCAGAAAGAACTCGCTGGGAAAATCAGAGAAGGCAAATTCAGGCGAATTCCATACCGTTACTCTGATGAATTGAATGAAATTATTACGAGGATGTTAAACTTAAAGGATTACCATCGACCTTCTGTTGAAGAAATTCTTGAGAACCCTTTAATAGCAGATTTGGTTGCAGACGAGCAAAGAAGAAATCTTGAGAGAAGAGGGCGACAATTAGGAGAGCCAGAAAAATCGCAGGATTCCAGCCCTGTATTGAGTGAGCTGAAACTGAAGGAAATTCAGTTACAGGAGCGAGAGCGAGCTCTCAAAGCAAGAGAAGAAAGATTGGAGCAGAAAGAACAGGAGCTTTGTGTTCGTGAGAGACTAGCAGAGGACAAACTGGCTAGAGCAGAAAATCTGTTGAAGAACTACAGCTTGCTAAAGGAACGGAAGTTCCTGTCTCTGGCAAGTAATCCAGAACTTCTTAATCTTCCATCCTCAGTAATTAAGAAGAAAGTTCATTTCAGTGGGGAAAGTAAAGAGAACATCATGAGGAGTGAGAATTCTGAGAGTCAGCTCACATCTAAGTCCAAGTGCAAGGACCTGAAGAAAAGGCTTCACGCTGCCCAGCTGCGGGCTCAAGCCCTGTCAGATATTGAGAAAAATTACCAACTGAAAAGCAGACAGATCCTGGGCATGCGCTAGCCAGGTAGAGAGACACAGAGCTGTGTACAGGATGTAATATTACCAACCTTTAAAGACTGATATTCAAATGCTGTAGTGTTGAATACTTGGTTCCATGAGCCATGCCTTTCTGTATAGTACACATGATATTTCGGAATTGGTTTTACTGTTCTTCAGCAACTATTGTACAAAATGTTCACATTTAATTTTTCTTTCTTCTTTTAAGAACATATTATAAAAAGAATACTTTCTTGGTTGGGCTTTTAATCCTGTGTGTGATTACTAGTAGGAACATGAGATGTGACATTCTAAATCTTGGGAGAAAAAATAATGTTAGGAAAAAAATATTTATGCAGGAAGAGTAGCACTCACTGAATAGTTTTAAATGACTGAGTGGTATGCTTACAATTGTCATGTCTAGATTTAAATTTTAAGTCTGAGATTTTAAATGTTTTTGAGCTTAGAAAACCCAGTTAGATGCAATTTGGTCATTAATACCATGACATCTTGCTTATAAATATTCCATTGCTCTGTAGTTCAAATCTGTTAGCTTTGTGAAAATTCATCACTGTGATGTTTGTATTCTTTTTTTTTTTCTGTTTAACAGAATATGAGCTGTCTGTCATTTACCTACTTCTTTCCCACTAAATAAAAGAATTCTTCAGTTTCCCTGTA\n"
          ]
        }
      ]
    },
    {
      "cell_type": "code",
      "source": [
        "length=len(sequence)\n",
        "print(length)"
      ],
      "metadata": {
        "colab": {
          "base_uri": "https://localhost:8080/"
        },
        "id": "-0Jg9w0KN-qR",
        "outputId": "f17821cd-d295-4d70-a1bb-80513ac7ae1e"
      },
      "execution_count": 40,
      "outputs": [
        {
          "output_type": "stream",
          "name": "stdout",
          "text": [
            "2134\n"
          ]
        }
      ]
    },
    {
      "cell_type": "code",
      "source": [
        "count_A=sequence.count('A')\n",
        "count_G=sequence.count('G')\n",
        "count_C=sequence.count('C')\n",
        "count_T=sequence.count('T')\n",
        "print(f\"count of A is :{count_A}\")\n",
        "print(f\"count of G is :{count_G}\")\n",
        "print(f\"count of C is :{count_C}\")\n",
        "print(f\"count of T is :{count_T}\")"
      ],
      "metadata": {
        "colab": {
          "base_uri": "https://localhost:8080/"
        },
        "id": "tpx8mPzfOn-Y",
        "outputId": "05246f74-ed21-4d3c-c7e8-24d1f614b27e"
      },
      "execution_count": 41,
      "outputs": [
        {
          "output_type": "stream",
          "name": "stdout",
          "text": [
            "count of A is :648\n",
            "count of G is :498\n",
            "count of C is :393\n",
            "count of T is :595\n"
          ]
        }
      ]
    },
    {
      "cell_type": "code",
      "source": [
        "sum0fAG=count_A + count_G\n",
        "print(f\"sum 0f A & G is :{sum0fAG}\")"
      ],
      "metadata": {
        "colab": {
          "base_uri": "https://localhost:8080/"
        },
        "id": "xX-3FLpxPz__",
        "outputId": "c59fe55a-9509-480a-e35a-2e6689e167fa"
      },
      "execution_count": 49,
      "outputs": [
        {
          "output_type": "stream",
          "name": "stdout",
          "text": [
            "sum 0f A & G is :1146\n"
          ]
        }
      ]
    },
    {
      "cell_type": "code",
      "source": [
        "sum0fCT=count_C + count_T\n",
        "print(f\"sum 0f C & T is :{sum0fCT}\")"
      ],
      "metadata": {
        "colab": {
          "base_uri": "https://localhost:8080/"
        },
        "id": "gM2615alUEPX",
        "outputId": "8c9df816-9ac2-471d-f163-e574b5793f66"
      },
      "execution_count": 50,
      "outputs": [
        {
          "output_type": "stream",
          "name": "stdout",
          "text": [
            "sum 0f C & T is :988\n"
          ]
        }
      ]
    },
    {
      "cell_type": "code",
      "source": [
        "ratio=sum0fAG/sum0fCT\n",
        "print(f\"The AG by CT ratio is  : {ratio}\")"
      ],
      "metadata": {
        "colab": {
          "base_uri": "https://localhost:8080/"
        },
        "id": "BNek8rC8WN9x",
        "outputId": "b306aafa-13ac-499b-d3f1-00f0a1f791a4"
      },
      "execution_count": 53,
      "outputs": [
        {
          "output_type": "stream",
          "name": "stdout",
          "text": [
            "The AG by CT ratio is  : 1.1599190283400809\n"
          ]
        }
      ]
    },
    {
      "cell_type": "code",
      "source": [
        "#Reverse Complement\n",
        "complement_dict = {'A': 'T', 'T': 'A', 'G': 'C', 'C': 'G'}\n",
        "reverse_sequence = sequence[::-1]\n",
        "complement_sequence = ''.join([complement_dict[base] for base in reverse_sequence])\n",
        "print(f\"The reverse complement sequence is: {complement_sequence}\")\n"
      ],
      "metadata": {
        "colab": {
          "base_uri": "https://localhost:8080/"
        },
        "id": "WXDCp0JfWeDc",
        "outputId": "61f0e47e-bfbb-49bc-9e8b-09a095b99af7"
      },
      "execution_count": 54,
      "outputs": [
        {
          "output_type": "stream",
          "name": "stdout",
          "text": [
            "The reverse complement sequence is: TACAGGGAAACTGAAGAATTCTTTTATTTAGTGGGAAAGAAGTAGGTAAATGACAGACAGCTCATATTCTGTTAAACAGAAAAAAAAAAAGAATACAAACATCACAGTGATGAATTTTCACAAAGCTAACAGATTTGAACTACAGAGCAATGGAATATTTATAAGCAAGATGTCATGGTATTAATGACCAAATTGCATCTAACTGGGTTTTCTAAGCTCAAAAACATTTAAAATCTCAGACTTAAAATTTAAATCTAGACATGACAATTGTAAGCATACCACTCAGTCATTTAAAACTATTCAGTGAGTGCTACTCTTCCTGCATAAATATTTTTTTCCTAACATTATTTTTTCTCCCAAGATTTAGAATGTCACATCTCATGTTCCTACTAGTAATCACACACAGGATTAAAAGCCCAACCAAGAAAGTATTCTTTTTATAATATGTTCTTAAAAGAAGAAAGAAAAATTAAATGTGAACATTTTGTACAATAGTTGCTGAAGAACAGTAAAACCAATTCCGAAATATCATGTGTACTATACAGAAAGGCATGGCTCATGGAACCAAGTATTCAACACTACAGCATTTGAATATCAGTCTTTAAAGGTTGGTAATATTACATCCTGTACACAGCTCTGTGTCTCTCTACCTGGCTAGCGCATGCCCAGGATCTGTCTGCTTTTCAGTTGGTAATTTTTCTCAATATCTGACAGGGCTTGAGCCCGCAGCTGGGCAGCGTGAAGCCTTTTCTTCAGGTCCTTGCACTTGGACTTAGATGTGAGCTGACTCTCAGAATTCTCACTCCTCATGATGTTCTCTTTACTTTCCCCACTGAAATGAACTTTCTTCTTAATTACTGAGGATGGAAGATTAAGAAGTTCTGGATTACTTGCCAGAGACAGGAACTTCCGTTCCTTTAGCAAGCTGTAGTTCTTCAACAGATTTTCTGCTCTAGCCAGTTTGTCCTCTGCTAGTCTCTCACGAACACAAAGCTCCTGTTCTTTCTGCTCCAATCTTTCTTCTCTTGCTTTGAGAGCTCGCTCTCGCTCCTGTAACTGAATTTCCTTCAGTTTCAGCTCACTCAATACAGGGCTGGAATCCTGCGATTTTTCTGGCTCTCCTAATTGTCGCCCTCTTCTCTCAAGATTTCTTCTTTGCTCGTCTGCAACCAAATCTGCTATTAAAGGGTTCTCAAGAATTTCTTCAACAGAAGGTCGATGGTAATCCTTTAAGTTTAACATCCTCGTAATAATTTCATTCAATTCATCAGAGTAACGGTATGGAATTCGCCTGAATTTGCCTTCTCTGATTTTCCCAGCGAGTTCTTTCTGGCTAAAAGCTGTAAATGGAGGCATTAATGCACATAACTCATACAGCAAGCAGCCCAATGACCAGATATCTGATTTCTCATTGTAGGACATGCGATTCATTTGTTCAGGAGACATGTAATAAGGTGTGCCAACAAATGTTTTTGCAAAACTCGTGTCATGGTTTAATATTCTAGCTAGCCCAAAGTCTCCAAGCTTGACGTTTTGCTTGCCATCCAGGAAAACATTGGCTGGTTTCAGATCCCGATGCAATACGGTATGACCACCATCACTTCGTCTGTGGCATTCCTTCAGGGCCAGAGTCAACTGAGTCATCACTCGAAGAACAAACTCTTCATCTAAGTATTGCCTTTCCTTGGTTCCCTTTGTAATTACACTAGCCAGATCCCCTCCTTCACAATATTCCATTACAATGTACAGTGTTGTATTGGTCCGGTCAATAATCCGATCATAGTAACGAACGATGTTTGGATGTTTCAGTTCACGAAGCAAATTCACTTCAGAAACAAGCATCTGTTTCTCAGCTTCTGTCATGGAGCCATAGTCAAGTTCTTTCCAAACTAATATCTTGCCATCACTCTTCCTCCGGATCTTCTGGCAGCGGCCGTAGGAGCCTGTGCCAATGGTGTACAACACTTCATAGTCCTCAGCCCGGGAAGGCATGGCCGGCCAGTCGCCAGAGTCGCGCTGCCTCACGCAGGTTGCGCCGCCAAGTGCGGAGCTCCAGGGACCAGGAACTCCAGGGACCTGGATGGAGAAGCCCCCGAGCAGCACTGACCCGCCACCCCTGCCTTGGGCCCCGTTT\n"
          ]
        }
      ]
    },
    {
      "cell_type": "code",
      "source": [
        "#DNA to RNA\n",
        "rna_sequence = sequence.replace('T', 'U')\n",
        "print(f\"The RNA sequence is: {rna_sequence}\")"
      ],
      "metadata": {
        "colab": {
          "base_uri": "https://localhost:8080/"
        },
        "id": "z80XXdvcZHGw",
        "outputId": "7d75d944-238b-4a95-f5e9-4d0487f43fda"
      },
      "execution_count": 56,
      "outputs": [
        {
          "output_type": "stream",
          "name": "stdout",
          "text": [
            "The RNA sequence is: AAACGGGGCCCAAGGCAGGGGUGGCGGGUCAGUGCUGCUCGGGGGCUUCUCCAUCCAGGUCCCUGGAGUUCCUGGUCCCUGGAGCUCCGCACUUGGCGGCGCAACCUGCGUGAGGCAGCGCGACUCUGGCGACUGGCCGGCCAUGCCUUCCCGGGCUGAGGACUAUGAAGUGUUGUACACCAUUGGCACAGGCUCCUACGGCCGCUGCCAGAAGAUCCGGAGGAAGAGUGAUGGCAAGAUAUUAGUUUGGAAAGAACUUGACUAUGGCUCCAUGACAGAAGCUGAGAAACAGAUGCUUGUUUCUGAAGUGAAUUUGCUUCGUGAACUGAAACAUCCAAACAUCGUUCGUUACUAUGAUCGGAUUAUUGACCGGACCAAUACAACACUGUACAUUGUAAUGGAAUAUUGUGAAGGAGGGGAUCUGGCUAGUGUAAUUACAAAGGGAACCAAGGAAAGGCAAUACUUAGAUGAAGAGUUUGUUCUUCGAGUGAUGACUCAGUUGACUCUGGCCCUGAAGGAAUGCCACAGACGAAGUGAUGGUGGUCAUACCGUAUUGCAUCGGGAUCUGAAACCAGCCAAUGUUUUCCUGGAUGGCAAGCAAAACGUCAAGCUUGGAGACUUUGGGCUAGCUAGAAUAUUAAACCAUGACACGAGUUUUGCAAAAACAUUUGUUGGCACACCUUAUUACAUGUCUCCUGAACAAAUGAAUCGCAUGUCCUACAAUGAGAAAUCAGAUAUCUGGUCAUUGGGCUGCUUGCUGUAUGAGUUAUGUGCAUUAAUGCCUCCAUUUACAGCUUUUAGCCAGAAAGAACUCGCUGGGAAAAUCAGAGAAGGCAAAUUCAGGCGAAUUCCAUACCGUUACUCUGAUGAAUUGAAUGAAAUUAUUACGAGGAUGUUAAACUUAAAGGAUUACCAUCGACCUUCUGUUGAAGAAAUUCUUGAGAACCCUUUAAUAGCAGAUUUGGUUGCAGACGAGCAAAGAAGAAAUCUUGAGAGAAGAGGGCGACAAUUAGGAGAGCCAGAAAAAUCGCAGGAUUCCAGCCCUGUAUUGAGUGAGCUGAAACUGAAGGAAAUUCAGUUACAGGAGCGAGAGCGAGCUCUCAAAGCAAGAGAAGAAAGAUUGGAGCAGAAAGAACAGGAGCUUUGUGUUCGUGAGAGACUAGCAGAGGACAAACUGGCUAGAGCAGAAAAUCUGUUGAAGAACUACAGCUUGCUAAAGGAACGGAAGUUCCUGUCUCUGGCAAGUAAUCCAGAACUUCUUAAUCUUCCAUCCUCAGUAAUUAAGAAGAAAGUUCAUUUCAGUGGGGAAAGUAAAGAGAACAUCAUGAGGAGUGAGAAUUCUGAGAGUCAGCUCACAUCUAAGUCCAAGUGCAAGGACCUGAAGAAAAGGCUUCACGCUGCCCAGCUGCGGGCUCAAGCCCUGUCAGAUAUUGAGAAAAAUUACCAACUGAAAAGCAGACAGAUCCUGGGCAUGCGCUAGCCAGGUAGAGAGACACAGAGCUGUGUACAGGAUGUAAUAUUACCAACCUUUAAAGACUGAUAUUCAAAUGCUGUAGUGUUGAAUACUUGGUUCCAUGAGCCAUGCCUUUCUGUAUAGUACACAUGAUAUUUCGGAAUUGGUUUUACUGUUCUUCAGCAACUAUUGUACAAAAUGUUCACAUUUAAUUUUUCUUUCUUCUUUUAAGAACAUAUUAUAAAAAGAAUACUUUCUUGGUUGGGCUUUUAAUCCUGUGUGUGAUUACUAGUAGGAACAUGAGAUGUGACAUUCUAAAUCUUGGGAGAAAAAAUAAUGUUAGGAAAAAAAUAUUUAUGCAGGAAGAGUAGCACUCACUGAAUAGUUUUAAAUGACUGAGUGGUAUGCUUACAAUUGUCAUGUCUAGAUUUAAAUUUUAAGUCUGAGAUUUUAAAUGUUUUUGAGCUUAGAAAACCCAGUUAGAUGCAAUUUGGUCAUUAAUACCAUGACAUCUUGCUUAUAAAUAUUCCAUUGCUCUGUAGUUCAAAUCUGUUAGCUUUGUGAAAAUUCAUCACUGUGAUGUUUGUAUUCUUUUUUUUUUUCUGUUUAACAGAAUAUGAGCUGUCUGUCAUUUACCUACUUCUUUCCCACUAAAUAAAAGAAUUCUUCAGUUUCCCUGUA\n"
          ]
        }
      ]
    }
  ]
}